{
 "cells": [
  {
   "cell_type": "code",
   "execution_count": 13,
   "metadata": {},
   "outputs": [],
   "source": [
    "import numpy as np\n",
    "import pandas as pd\n",
    "import matplotlib.pyplot as plt\n",
    "import seaborn as sns\n",
    "%matplotlib inline"
   ]
  },
  {
   "cell_type": "code",
   "execution_count": 3,
   "metadata": {},
   "outputs": [
    {
     "data": {
      "text/html": [
       "<div>\n",
       "<style scoped>\n",
       "    .dataframe tbody tr th:only-of-type {\n",
       "        vertical-align: middle;\n",
       "    }\n",
       "\n",
       "    .dataframe tbody tr th {\n",
       "        vertical-align: top;\n",
       "    }\n",
       "\n",
       "    .dataframe thead th {\n",
       "        text-align: right;\n",
       "    }\n",
       "</style>\n",
       "<table border=\"1\" class=\"dataframe\">\n",
       "  <thead>\n",
       "    <tr style=\"text-align: right;\">\n",
       "      <th></th>\n",
       "      <th>Transaction_ID</th>\n",
       "      <th>Timestamp</th>\n",
       "      <th>Vehicle_Type</th>\n",
       "      <th>FastagID</th>\n",
       "      <th>TollBoothID</th>\n",
       "      <th>Lane_Type</th>\n",
       "      <th>Vehicle_Dimensions</th>\n",
       "      <th>Transaction_Amount</th>\n",
       "      <th>Amount_paid</th>\n",
       "      <th>Geographical_Location</th>\n",
       "      <th>Vehicle_Speed</th>\n",
       "      <th>Vehicle_Plate_Number</th>\n",
       "      <th>Fraud_indicator</th>\n",
       "    </tr>\n",
       "  </thead>\n",
       "  <tbody>\n",
       "    <tr>\n",
       "      <th>0</th>\n",
       "      <td>1</td>\n",
       "      <td>1/6/2023 11:20</td>\n",
       "      <td>Bus</td>\n",
       "      <td>FTG-001-ABC-121</td>\n",
       "      <td>A-101</td>\n",
       "      <td>Express</td>\n",
       "      <td>Large</td>\n",
       "      <td>350</td>\n",
       "      <td>120</td>\n",
       "      <td>13.059816123454882, 77.77068662374292</td>\n",
       "      <td>65</td>\n",
       "      <td>KA11AB1234</td>\n",
       "      <td>Fraud</td>\n",
       "    </tr>\n",
       "    <tr>\n",
       "      <th>1</th>\n",
       "      <td>2</td>\n",
       "      <td>1/7/2023 14:55</td>\n",
       "      <td>Car</td>\n",
       "      <td>FTG-002-XYZ-451</td>\n",
       "      <td>B-102</td>\n",
       "      <td>Regular</td>\n",
       "      <td>Small</td>\n",
       "      <td>120</td>\n",
       "      <td>100</td>\n",
       "      <td>13.059816123454882, 77.77068662374292</td>\n",
       "      <td>78</td>\n",
       "      <td>KA66CD5678</td>\n",
       "      <td>Fraud</td>\n",
       "    </tr>\n",
       "    <tr>\n",
       "      <th>2</th>\n",
       "      <td>3</td>\n",
       "      <td>1/8/2023 18:25</td>\n",
       "      <td>Motorcycle</td>\n",
       "      <td>NaN</td>\n",
       "      <td>D-104</td>\n",
       "      <td>Regular</td>\n",
       "      <td>Small</td>\n",
       "      <td>0</td>\n",
       "      <td>0</td>\n",
       "      <td>13.059816123454882, 77.77068662374292</td>\n",
       "      <td>53</td>\n",
       "      <td>KA88EF9012</td>\n",
       "      <td>Not Fraud</td>\n",
       "    </tr>\n",
       "  </tbody>\n",
       "</table>\n",
       "</div>"
      ],
      "text/plain": [
       "   Transaction_ID       Timestamp Vehicle_Type         FastagID TollBoothID  \\\n",
       "0               1  1/6/2023 11:20         Bus   FTG-001-ABC-121       A-101   \n",
       "1               2  1/7/2023 14:55          Car  FTG-002-XYZ-451       B-102   \n",
       "2               3  1/8/2023 18:25   Motorcycle              NaN       D-104   \n",
       "\n",
       "  Lane_Type Vehicle_Dimensions  Transaction_Amount  Amount_paid  \\\n",
       "0   Express              Large                 350          120   \n",
       "1   Regular              Small                 120          100   \n",
       "2   Regular              Small                   0            0   \n",
       "\n",
       "                   Geographical_Location  Vehicle_Speed Vehicle_Plate_Number  \\\n",
       "0  13.059816123454882, 77.77068662374292             65           KA11AB1234   \n",
       "1  13.059816123454882, 77.77068662374292             78           KA66CD5678   \n",
       "2  13.059816123454882, 77.77068662374292             53           KA88EF9012   \n",
       "\n",
       "  Fraud_indicator  \n",
       "0           Fraud  \n",
       "1           Fraud  \n",
       "2       Not Fraud  "
      ]
     },
     "execution_count": 3,
     "metadata": {},
     "output_type": "execute_result"
    }
   ],
   "source": [
    "df = pd.read_csv('../data/preprocessedData.csv')\n",
    "df.head(3)"
   ]
  },
  {
   "cell_type": "markdown",
   "metadata": {},
   "source": [
    "# 🤔Exploring"
   ]
  },
  {
   "cell_type": "code",
   "execution_count": 4,
   "metadata": {},
   "outputs": [
    {
     "data": {
      "text/plain": [
       "Transaction_ID             0\n",
       "Timestamp                  0\n",
       "Vehicle_Type               0\n",
       "FastagID                 549\n",
       "TollBoothID                0\n",
       "Lane_Type                  0\n",
       "Vehicle_Dimensions         0\n",
       "Transaction_Amount         0\n",
       "Amount_paid                0\n",
       "Geographical_Location      0\n",
       "Vehicle_Speed              0\n",
       "Vehicle_Plate_Number       0\n",
       "Fraud_indicator            0\n",
       "dtype: int64"
      ]
     },
     "execution_count": 4,
     "metadata": {},
     "output_type": "execute_result"
    }
   ],
   "source": [
    "df.isnull().sum()"
   ]
  },
  {
   "cell_type": "markdown",
   "metadata": {},
   "source": [
    "- handling null values\n",
    "    - FastagID column has 549 null values\n",
    "    - mean ke jagah par median/mode use karta hu \n",
    "    - talk with the head and find out a way \n",
    "    - drop those columns having null values"
   ]
  },
  {
   "cell_type": "code",
   "execution_count": 5,
   "metadata": {},
   "outputs": [
    {
     "data": {
      "text/plain": [
       "'FTG-000-QAZ-210'"
      ]
     },
     "execution_count": 5,
     "metadata": {},
     "output_type": "execute_result"
    }
   ],
   "source": [
    "df['FastagID'].mode()[0]\n",
    "# iski frequency sabse jyada hai and fill every null value with this value"
   ]
  },
  {
   "cell_type": "code",
   "execution_count": 6,
   "metadata": {},
   "outputs": [
    {
     "name": "stderr",
     "output_type": "stream",
     "text": [
      "C:\\Users\\GAURAV MAURYA\\AppData\\Local\\Temp\\ipykernel_7908\\1616979510.py:1: FutureWarning: A value is trying to be set on a copy of a DataFrame or Series through chained assignment using an inplace method.\n",
      "The behavior will change in pandas 3.0. This inplace method will never work because the intermediate object on which we are setting values always behaves as a copy.\n",
      "\n",
      "For example, when doing 'df[col].method(value, inplace=True)', try using 'df.method({col: value}, inplace=True)' or df[col] = df[col].method(value) instead, to perform the operation inplace on the original object.\n",
      "\n",
      "\n",
      "  df['FastagID'].fillna(df['FastagID'].mode()[0], inplace=True)\n"
     ]
    },
    {
     "data": {
      "text/plain": [
       "Transaction_ID           0\n",
       "Timestamp                0\n",
       "Vehicle_Type             0\n",
       "FastagID                 0\n",
       "TollBoothID              0\n",
       "Lane_Type                0\n",
       "Vehicle_Dimensions       0\n",
       "Transaction_Amount       0\n",
       "Amount_paid              0\n",
       "Geographical_Location    0\n",
       "Vehicle_Speed            0\n",
       "Vehicle_Plate_Number     0\n",
       "Fraud_indicator          0\n",
       "dtype: int64"
      ]
     },
     "execution_count": 6,
     "metadata": {},
     "output_type": "execute_result"
    }
   ],
   "source": [
    "df['FastagID'].fillna(df['FastagID'].mode()[0], inplace=True)\n",
    "df.isnull().sum()\n"
   ]
  },
  {
   "cell_type": "code",
   "execution_count": 7,
   "metadata": {},
   "outputs": [
    {
     "data": {
      "text/plain": [
       "0       KA11AB1234\n",
       "1       KA66CD5678\n",
       "2       KA88EF9012\n",
       "3       KA11GH3456\n",
       "4       KA44IJ6789\n",
       "           ...    \n",
       "4995    KA74ST0123\n",
       "4996    KA38UV3456\n",
       "4997    KA33WX6789\n",
       "4998    KA35YZ0123\n",
       "4999    KA37AB3456\n",
       "Name: Vehicle_Plate_Number, Length: 5000, dtype: object"
      ]
     },
     "execution_count": 7,
     "metadata": {},
     "output_type": "execute_result"
    }
   ],
   "source": [
    "df['Vehicle_Plate_Number']"
   ]
  },
  {
   "cell_type": "code",
   "execution_count": 8,
   "metadata": {},
   "outputs": [],
   "source": [
    "df[\"state_code\"] = df['Vehicle_Plate_Number'].str[:2]"
   ]
  },
  {
   "cell_type": "code",
   "execution_count": 9,
   "metadata": {},
   "outputs": [
    {
     "data": {
      "text/html": [
       "<div>\n",
       "<style scoped>\n",
       "    .dataframe tbody tr th:only-of-type {\n",
       "        vertical-align: middle;\n",
       "    }\n",
       "\n",
       "    .dataframe tbody tr th {\n",
       "        vertical-align: top;\n",
       "    }\n",
       "\n",
       "    .dataframe thead th {\n",
       "        text-align: right;\n",
       "    }\n",
       "</style>\n",
       "<table border=\"1\" class=\"dataframe\">\n",
       "  <thead>\n",
       "    <tr style=\"text-align: right;\">\n",
       "      <th></th>\n",
       "      <th>Transaction_ID</th>\n",
       "      <th>Timestamp</th>\n",
       "      <th>Vehicle_Type</th>\n",
       "      <th>FastagID</th>\n",
       "      <th>TollBoothID</th>\n",
       "      <th>Lane_Type</th>\n",
       "      <th>Vehicle_Dimensions</th>\n",
       "      <th>Transaction_Amount</th>\n",
       "      <th>Amount_paid</th>\n",
       "      <th>Geographical_Location</th>\n",
       "      <th>Vehicle_Speed</th>\n",
       "      <th>Vehicle_Plate_Number</th>\n",
       "      <th>Fraud_indicator</th>\n",
       "      <th>state_code</th>\n",
       "    </tr>\n",
       "  </thead>\n",
       "  <tbody>\n",
       "    <tr>\n",
       "      <th>1793</th>\n",
       "      <td>1794</td>\n",
       "      <td>11/29/2023 0:45</td>\n",
       "      <td>Car</td>\n",
       "      <td>FTG-150-LMN-345</td>\n",
       "      <td>A-101</td>\n",
       "      <td>Regular</td>\n",
       "      <td>Small</td>\n",
       "      <td>70</td>\n",
       "      <td>70</td>\n",
       "      <td>12.936687032945434, 77.53113977439017</td>\n",
       "      <td>53</td>\n",
       "      <td>KA34NO1239</td>\n",
       "      <td>Not Fraud</td>\n",
       "      <td>KA</td>\n",
       "    </tr>\n",
       "  </tbody>\n",
       "</table>\n",
       "</div>"
      ],
      "text/plain": [
       "      Transaction_ID        Timestamp Vehicle_Type         FastagID  \\\n",
       "1793            1794  11/29/2023 0:45          Car  FTG-150-LMN-345   \n",
       "\n",
       "     TollBoothID Lane_Type Vehicle_Dimensions  Transaction_Amount  \\\n",
       "1793       A-101   Regular              Small                  70   \n",
       "\n",
       "      Amount_paid                  Geographical_Location  Vehicle_Speed  \\\n",
       "1793           70  12.936687032945434, 77.53113977439017             53   \n",
       "\n",
       "     Vehicle_Plate_Number Fraud_indicator state_code  \n",
       "1793           KA34NO1239       Not Fraud         KA  "
      ]
     },
     "execution_count": 9,
     "metadata": {},
     "output_type": "execute_result"
    }
   ],
   "source": [
    "df.sample()"
   ]
  },
  {
   "cell_type": "code",
   "execution_count": 10,
   "metadata": {},
   "outputs": [],
   "source": [
    "#remove vehicle number plate feature from vehicle plate number\n",
    "df = df.drop(\"Vehicle_Plate_Number\", axis=1)"
   ]
  },
  {
   "cell_type": "code",
   "execution_count": 11,
   "metadata": {},
   "outputs": [
    {
     "data": {
      "text/html": [
       "<div>\n",
       "<style scoped>\n",
       "    .dataframe tbody tr th:only-of-type {\n",
       "        vertical-align: middle;\n",
       "    }\n",
       "\n",
       "    .dataframe tbody tr th {\n",
       "        vertical-align: top;\n",
       "    }\n",
       "\n",
       "    .dataframe thead th {\n",
       "        text-align: right;\n",
       "    }\n",
       "</style>\n",
       "<table border=\"1\" class=\"dataframe\">\n",
       "  <thead>\n",
       "    <tr style=\"text-align: right;\">\n",
       "      <th></th>\n",
       "      <th>Transaction_ID</th>\n",
       "      <th>Timestamp</th>\n",
       "      <th>Vehicle_Type</th>\n",
       "      <th>FastagID</th>\n",
       "      <th>TollBoothID</th>\n",
       "      <th>Lane_Type</th>\n",
       "      <th>Vehicle_Dimensions</th>\n",
       "      <th>Transaction_Amount</th>\n",
       "      <th>Amount_paid</th>\n",
       "      <th>Geographical_Location</th>\n",
       "      <th>Vehicle_Speed</th>\n",
       "      <th>Fraud_indicator</th>\n",
       "      <th>state_code</th>\n",
       "    </tr>\n",
       "  </thead>\n",
       "  <tbody>\n",
       "    <tr>\n",
       "      <th>4914</th>\n",
       "      <td>4915</td>\n",
       "      <td>3/23/2023 17:20</td>\n",
       "      <td>SUV</td>\n",
       "      <td>FTG-374-VFR-092</td>\n",
       "      <td>B-102</td>\n",
       "      <td>Express</td>\n",
       "      <td>Large</td>\n",
       "      <td>145</td>\n",
       "      <td>145</td>\n",
       "      <td>13.21331620748757, 77.55413526894684</td>\n",
       "      <td>62</td>\n",
       "      <td>Not Fraud</td>\n",
       "      <td>AP</td>\n",
       "    </tr>\n",
       "    <tr>\n",
       "      <th>477</th>\n",
       "      <td>478</td>\n",
       "      <td>4/14/2023 6:40</td>\n",
       "      <td>Car</td>\n",
       "      <td>FTG-478-NJH-852</td>\n",
       "      <td>A-101</td>\n",
       "      <td>Regular</td>\n",
       "      <td>Small</td>\n",
       "      <td>120</td>\n",
       "      <td>120</td>\n",
       "      <td>13.059816123454882, 77.77068662374292</td>\n",
       "      <td>73</td>\n",
       "      <td>Not Fraud</td>\n",
       "      <td>KA</td>\n",
       "    </tr>\n",
       "  </tbody>\n",
       "</table>\n",
       "</div>"
      ],
      "text/plain": [
       "      Transaction_ID        Timestamp Vehicle_Type         FastagID  \\\n",
       "4914            4915  3/23/2023 17:20          SUV  FTG-374-VFR-092   \n",
       "477              478   4/14/2023 6:40          Car  FTG-478-NJH-852   \n",
       "\n",
       "     TollBoothID Lane_Type Vehicle_Dimensions  Transaction_Amount  \\\n",
       "4914       B-102   Express              Large                 145   \n",
       "477        A-101   Regular              Small                 120   \n",
       "\n",
       "      Amount_paid                  Geographical_Location  Vehicle_Speed  \\\n",
       "4914          145   13.21331620748757, 77.55413526894684             62   \n",
       "477           120  13.059816123454882, 77.77068662374292             73   \n",
       "\n",
       "     Fraud_indicator state_code  \n",
       "4914       Not Fraud         AP  \n",
       "477        Not Fraud         KA  "
      ]
     },
     "execution_count": 11,
     "metadata": {},
     "output_type": "execute_result"
    }
   ],
   "source": [
    "df.sample(2)"
   ]
  },
  {
   "cell_type": "code",
   "execution_count": 14,
   "metadata": {},
   "outputs": [
    {
     "data": {
      "image/png": "[encoded data removed]",
      "text/plain": [
       "<Figure size 640x480 with 1 Axes>"
      ]
     },
     "metadata": {},
     "output_type": "display_data"
    }
   ],
   "source": [
    "#visualise fraud based o states\n",
    "sns.countplot(x='state_code',\n",
    "              data=df,\n",
    "              hue='Fraud_indicator')\n",
    "plt.title(\"Fraud based on states code\")\n",
    "plt.xlabel(\"state_code\")\n",
    "plt.ylabel(\"count\")\n",
    "plt.legend(title=\"Fraud Indicator\")\n",
    "plt.show()"
   ]
  },
  {
   "cell_type": "code",
   "execution_count": 15,
   "metadata": {},
   "outputs": [
    {
     "data": {
      "text/plain": [
       "state_code\n",
       "KA    2860\n",
       "GA     489\n",
       "MH     488\n",
       "AP     447\n",
       "TN     203\n",
       "DL     123\n",
       "KL     121\n",
       "GJ     119\n",
       "TS      22\n",
       "UP      22\n",
       "RJ      22\n",
       "WB      21\n",
       "MP      21\n",
       "HR      21\n",
       "BR      21\n",
       "Name: count, dtype: int64"
      ]
     },
     "execution_count": 15,
     "metadata": {},
     "output_type": "execute_result"
    }
   ],
   "source": [
    "df['state_code'].value_counts()"
   ]
  },
  {
   "cell_type": "code",
   "execution_count": 16,
   "metadata": {},
   "outputs": [
    {
     "data": {
      "text/plain": [
       "state_code\n",
       "KA    623\n",
       "GA     93\n",
       "MH     92\n",
       "AP     68\n",
       "TN     31\n",
       "GJ     16\n",
       "KL     14\n",
       "DL     12\n",
       "TS      8\n",
       "RJ      7\n",
       "BR      6\n",
       "HR      5\n",
       "UP      4\n",
       "WB      2\n",
       "MP      2\n",
       "Name: count, dtype: int64"
      ]
     },
     "execution_count": 16,
     "metadata": {},
     "output_type": "execute_result"
    }
   ],
   "source": [
    "df.loc[df['Fraud_indicator'] == \"Fraud\", \"state_code\"].value_counts()"
   ]
  },
  {
   "cell_type": "markdown",
   "metadata": {},
   "source": [
    "## Observation - 4\n",
    "- Highest Fraud count is in Karnataka(KA)\n",
    "- Madhya Pradesh Has the lowest fraud count"
   ]
  },
  {
   "cell_type": "markdown",
   "metadata": {},
   "source": [
    "# 🤔Playing with time"
   ]
  },
  {
   "cell_type": "code",
   "execution_count": 17,
   "metadata": {},
   "outputs": [
    {
     "data": {
      "text/plain": [
       "2877    5/28/2023 23:48\n",
       "3829    12/15/2023 0:50\n",
       "3778      8/8/2023 5:26\n",
       "Name: Timestamp, dtype: object"
      ]
     },
     "execution_count": 17,
     "metadata": {},
     "output_type": "execute_result"
    }
   ],
   "source": [
    "# timestamp feature\n",
    "# fraud kiss time par jyada hai \n",
    "df['Timestamp'].sample(3)"
   ]
  },
  {
   "cell_type": "code",
   "execution_count": 18,
   "metadata": {},
   "outputs": [
    {
     "data": {
      "text/plain": [
       "pandas.core.series.Series"
      ]
     },
     "execution_count": 18,
     "metadata": {},
     "output_type": "execute_result"
    }
   ],
   "source": [
    "type(df['Timestamp'])"
   ]
  },
  {
   "cell_type": "code",
   "execution_count": 19,
   "metadata": {},
   "outputs": [
    {
     "data": {
      "text/plain": [
       "pandas.core.series.Series"
      ]
     },
     "execution_count": 19,
     "metadata": {},
     "output_type": "execute_result"
    }
   ],
   "source": [
    "# convert series into datetime format\n",
    "df['Timestamp'] =  pd.to_datetime(df['Timestamp']) \n",
    "type(df['Timestamp'])\n"
   ]
  },
  {
   "cell_type": "code",
   "execution_count": 20,
   "metadata": {},
   "outputs": [],
   "source": [
    "df[\"Hour\"] = df['Timestamp'].dt.hour\n",
    "df[\"DayOfWeek\"] = df[\"Timestamp\"].dt.day_of_week\n",
    "df[\"Month\"] = df[\"Timestamp\"].dt.month"
   ]
  },
  {
   "cell_type": "code",
   "execution_count": 21,
   "metadata": {},
   "outputs": [],
   "source": [
    "#drop timestamp feature because now ab hume unka kaam nahi hai \n",
    "df = df.drop(\"Timestamp\", axis=1)"
   ]
  },
  {
   "cell_type": "code",
   "execution_count": 22,
   "metadata": {},
   "outputs": [
    {
     "data": {
      "text/plain": [
       "DayOfWeek\n",
       "6    743\n",
       "1    728\n",
       "0    716\n",
       "4    713\n",
       "5    709\n",
       "2    697\n",
       "3    694\n",
       "Name: count, dtype: int64"
      ]
     },
     "execution_count": 22,
     "metadata": {},
     "output_type": "execute_result"
    }
   ],
   "source": [
    "df[\"DayOfWeek\"].value_counts()"
   ]
  },
  {
   "cell_type": "code",
   "execution_count": 23,
   "metadata": {},
   "outputs": [
    {
     "data": {
      "image/png": "[encoded data removed]",
      "text/plain": [
       "<Figure size 640x480 with 1 Axes>"
      ]
     },
     "metadata": {},
     "output_type": "display_data"
    }
   ],
   "source": [
    "#visualise based of days\n",
    "sns.countplot(x='DayOfWeek',\n",
    "              data=df,\n",
    "              hue='Fraud_indicator')\n",
    "plt.xticks([0,1,2,3,4,5,6] , ['Mon', 'Tues', 'Wed', 'Thu', 'Fri', 'Sat', 'Sun'])\n",
    "plt.title(\"Fraud based on days\")\n",
    "plt.xlabel(\"DayOfWeek\")\n",
    "plt.ylabel(\"count\")\n",
    "plt.show()"
   ]
  },
  {
   "cell_type": "markdown",
   "metadata": {},
   "source": [
    "# 🤔Correlation Matrix"
   ]
  },
  {
   "cell_type": "code",
   "execution_count": 24,
   "metadata": {},
   "outputs": [],
   "source": [
    "numericalDf = df.select_dtypes(\"number\")"
   ]
  },
  {
   "cell_type": "code",
   "execution_count": 25,
   "metadata": {},
   "outputs": [
    {
     "data": {
      "text/html": [
       "<div>\n",
       "<style scoped>\n",
       "    .dataframe tbody tr th:only-of-type {\n",
       "        vertical-align: middle;\n",
       "    }\n",
       "\n",
       "    .dataframe tbody tr th {\n",
       "        vertical-align: top;\n",
       "    }\n",
       "\n",
       "    .dataframe thead th {\n",
       "        text-align: right;\n",
       "    }\n",
       "</style>\n",
       "<table border=\"1\" class=\"dataframe\">\n",
       "  <thead>\n",
       "    <tr style=\"text-align: right;\">\n",
       "      <th></th>\n",
       "      <th>Transaction_ID</th>\n",
       "      <th>Transaction_Amount</th>\n",
       "      <th>Amount_paid</th>\n",
       "      <th>Vehicle_Speed</th>\n",
       "      <th>Hour</th>\n",
       "      <th>DayOfWeek</th>\n",
       "      <th>Month</th>\n",
       "    </tr>\n",
       "  </thead>\n",
       "  <tbody>\n",
       "    <tr>\n",
       "      <th>Transaction_ID</th>\n",
       "      <td>1.000000</td>\n",
       "      <td>-0.023515</td>\n",
       "      <td>0.044433</td>\n",
       "      <td>0.014378</td>\n",
       "      <td>-0.023208</td>\n",
       "      <td>0.002446</td>\n",
       "      <td>0.260075</td>\n",
       "    </tr>\n",
       "    <tr>\n",
       "      <th>Transaction_Amount</th>\n",
       "      <td>-0.023515</td>\n",
       "      <td>1.000000</td>\n",
       "      <td>0.870078</td>\n",
       "      <td>0.053229</td>\n",
       "      <td>-0.036980</td>\n",
       "      <td>-0.001813</td>\n",
       "      <td>-0.019824</td>\n",
       "    </tr>\n",
       "    <tr>\n",
       "      <th>Amount_paid</th>\n",
       "      <td>0.044433</td>\n",
       "      <td>0.870078</td>\n",
       "      <td>1.000000</td>\n",
       "      <td>0.039027</td>\n",
       "      <td>-0.026358</td>\n",
       "      <td>-0.002960</td>\n",
       "      <td>0.018105</td>\n",
       "    </tr>\n",
       "    <tr>\n",
       "      <th>Vehicle_Speed</th>\n",
       "      <td>0.014378</td>\n",
       "      <td>0.053229</td>\n",
       "      <td>0.039027</td>\n",
       "      <td>1.000000</td>\n",
       "      <td>-0.002259</td>\n",
       "      <td>-0.017608</td>\n",
       "      <td>0.015349</td>\n",
       "    </tr>\n",
       "    <tr>\n",
       "      <th>Hour</th>\n",
       "      <td>-0.023208</td>\n",
       "      <td>-0.036980</td>\n",
       "      <td>-0.026358</td>\n",
       "      <td>-0.002259</td>\n",
       "      <td>1.000000</td>\n",
       "      <td>-0.010292</td>\n",
       "      <td>0.001041</td>\n",
       "    </tr>\n",
       "    <tr>\n",
       "      <th>DayOfWeek</th>\n",
       "      <td>0.002446</td>\n",
       "      <td>-0.001813</td>\n",
       "      <td>-0.002960</td>\n",
       "      <td>-0.017608</td>\n",
       "      <td>-0.010292</td>\n",
       "      <td>1.000000</td>\n",
       "      <td>0.002552</td>\n",
       "    </tr>\n",
       "    <tr>\n",
       "      <th>Month</th>\n",
       "      <td>0.260075</td>\n",
       "      <td>-0.019824</td>\n",
       "      <td>0.018105</td>\n",
       "      <td>0.015349</td>\n",
       "      <td>0.001041</td>\n",
       "      <td>0.002552</td>\n",
       "      <td>1.000000</td>\n",
       "    </tr>\n",
       "  </tbody>\n",
       "</table>\n",
       "</div>"
      ],
      "text/plain": [
       "                    Transaction_ID  Transaction_Amount  Amount_paid  \\\n",
       "Transaction_ID            1.000000           -0.023515     0.044433   \n",
       "Transaction_Amount       -0.023515            1.000000     0.870078   \n",
       "Amount_paid               0.044433            0.870078     1.000000   \n",
       "Vehicle_Speed             0.014378            0.053229     0.039027   \n",
       "Hour                     -0.023208           -0.036980    -0.026358   \n",
       "DayOfWeek                 0.002446           -0.001813    -0.002960   \n",
       "Month                     0.260075           -0.019824     0.018105   \n",
       "\n",
       "                    Vehicle_Speed      Hour  DayOfWeek     Month  \n",
       "Transaction_ID           0.014378 -0.023208   0.002446  0.260075  \n",
       "Transaction_Amount       0.053229 -0.036980  -0.001813 -0.019824  \n",
       "Amount_paid              0.039027 -0.026358  -0.002960  0.018105  \n",
       "Vehicle_Speed            1.000000 -0.002259  -0.017608  0.015349  \n",
       "Hour                    -0.002259  1.000000  -0.010292  0.001041  \n",
       "DayOfWeek               -0.017608 -0.010292   1.000000  0.002552  \n",
       "Month                    0.015349  0.001041   0.002552  1.000000  "
      ]
     },
     "execution_count": 25,
     "metadata": {},
     "output_type": "execute_result"
    }
   ],
   "source": [
    "corr_matrix = numericalDf.corr()\n",
    "corr_matrix\n",
    "# -1 => No relation at all\n",
    "# 0 => no relation\n",
    "# 1 => highly correlated\n",
    "# plotted using headmap"
   ]
  },
  {
   "cell_type": "code",
   "execution_count": 26,
   "metadata": {},
   "outputs": [
    {
     "data": {
      "image/png": "[encoded data removed]",
      "text/plain": [
       "<Figure size 640x480 with 2 Axes>"
      ]
     },
     "metadata": {},
     "output_type": "display_data"
    }
   ],
   "source": [
    "sns.heatmap(corr_matrix,\n",
    "            cmap=\"coolwarm\",\n",
    "            annot=True,\n",
    "            linewidths=1)\n",
    "plt.title(\"Correlation Matrix\")\n",
    "plt.show()"
   ]
  },
  {
   "cell_type": "markdown",
   "metadata": {},
   "source": [
    "## Observation - 5\n",
    "- Amount_paid and transition amount are highly corelated"
   ]
  },
  {
   "cell_type": "markdown",
   "metadata": {},
   "source": [
    "# 🤔Feature Selection"
   ]
  },
  {
   "cell_type": "code",
   "execution_count": 27,
   "metadata": {},
   "outputs": [],
   "source": [
    "#removing unnecessary columns\n",
    "df = df.drop([\"Transaction_ID\", \"Geographical_Location\"],  axis=1)"
   ]
  },
  {
   "cell_type": "code",
   "execution_count": 28,
   "metadata": {},
   "outputs": [
    {
     "name": "stdout",
     "output_type": "stream",
     "text": [
      "<class 'pandas.core.frame.DataFrame'>\n",
      "RangeIndex: 5000 entries, 0 to 4999\n",
      "Data columns (total 13 columns):\n",
      " #   Column              Non-Null Count  Dtype \n",
      "---  ------              --------------  ----- \n",
      " 0   Vehicle_Type        5000 non-null   object\n",
      " 1   FastagID            5000 non-null   object\n",
      " 2   TollBoothID         5000 non-null   object\n",
      " 3   Lane_Type           5000 non-null   object\n",
      " 4   Vehicle_Dimensions  5000 non-null   object\n",
      " 5   Transaction_Amount  5000 non-null   int64 \n",
      " 6   Amount_paid         5000 non-null   int64 \n",
      " 7   Vehicle_Speed       5000 non-null   int64 \n",
      " 8   Fraud_indicator     5000 non-null   object\n",
      " 9   state_code          5000 non-null   object\n",
      " 10  Hour                5000 non-null   int32 \n",
      " 11  DayOfWeek           5000 non-null   int32 \n",
      " 12  Month               5000 non-null   int32 \n",
      "dtypes: int32(3), int64(3), object(7)\n",
      "memory usage: 449.3+ KB\n"
     ]
    }
   ],
   "source": [
    "df.info()"
   ]
  },
  {
   "cell_type": "code",
   "execution_count": 29,
   "metadata": {},
   "outputs": [
    {
     "data": {
      "text/html": [
       "<div>\n",
       "<style scoped>\n",
       "    .dataframe tbody tr th:only-of-type {\n",
       "        vertical-align: middle;\n",
       "    }\n",
       "\n",
       "    .dataframe tbody tr th {\n",
       "        vertical-align: top;\n",
       "    }\n",
       "\n",
       "    .dataframe thead th {\n",
       "        text-align: right;\n",
       "    }\n",
       "</style>\n",
       "<table border=\"1\" class=\"dataframe\">\n",
       "  <thead>\n",
       "    <tr style=\"text-align: right;\">\n",
       "      <th></th>\n",
       "      <th>Vehicle_Type</th>\n",
       "      <th>FastagID</th>\n",
       "      <th>TollBoothID</th>\n",
       "      <th>Lane_Type</th>\n",
       "      <th>Vehicle_Dimensions</th>\n",
       "      <th>Transaction_Amount</th>\n",
       "      <th>Amount_paid</th>\n",
       "      <th>Vehicle_Speed</th>\n",
       "      <th>Fraud_indicator</th>\n",
       "      <th>state_code</th>\n",
       "      <th>Hour</th>\n",
       "      <th>DayOfWeek</th>\n",
       "      <th>Month</th>\n",
       "    </tr>\n",
       "  </thead>\n",
       "  <tbody>\n",
       "    <tr>\n",
       "      <th>0</th>\n",
       "      <td>Bus</td>\n",
       "      <td>FTG-001-ABC-121</td>\n",
       "      <td>A-101</td>\n",
       "      <td>Express</td>\n",
       "      <td>Large</td>\n",
       "      <td>350</td>\n",
       "      <td>120</td>\n",
       "      <td>65</td>\n",
       "      <td>Fraud</td>\n",
       "      <td>KA</td>\n",
       "      <td>11</td>\n",
       "      <td>4</td>\n",
       "      <td>1</td>\n",
       "    </tr>\n",
       "    <tr>\n",
       "      <th>1</th>\n",
       "      <td>Car</td>\n",
       "      <td>FTG-002-XYZ-451</td>\n",
       "      <td>B-102</td>\n",
       "      <td>Regular</td>\n",
       "      <td>Small</td>\n",
       "      <td>120</td>\n",
       "      <td>100</td>\n",
       "      <td>78</td>\n",
       "      <td>Fraud</td>\n",
       "      <td>KA</td>\n",
       "      <td>14</td>\n",
       "      <td>5</td>\n",
       "      <td>1</td>\n",
       "    </tr>\n",
       "    <tr>\n",
       "      <th>2</th>\n",
       "      <td>Motorcycle</td>\n",
       "      <td>FTG-000-QAZ-210</td>\n",
       "      <td>D-104</td>\n",
       "      <td>Regular</td>\n",
       "      <td>Small</td>\n",
       "      <td>0</td>\n",
       "      <td>0</td>\n",
       "      <td>53</td>\n",
       "      <td>Not Fraud</td>\n",
       "      <td>KA</td>\n",
       "      <td>18</td>\n",
       "      <td>6</td>\n",
       "      <td>1</td>\n",
       "    </tr>\n",
       "    <tr>\n",
       "      <th>3</th>\n",
       "      <td>Truck</td>\n",
       "      <td>FTG-044-LMN-322</td>\n",
       "      <td>C-103</td>\n",
       "      <td>Regular</td>\n",
       "      <td>Large</td>\n",
       "      <td>350</td>\n",
       "      <td>120</td>\n",
       "      <td>92</td>\n",
       "      <td>Fraud</td>\n",
       "      <td>KA</td>\n",
       "      <td>2</td>\n",
       "      <td>0</td>\n",
       "      <td>1</td>\n",
       "    </tr>\n",
       "    <tr>\n",
       "      <th>4</th>\n",
       "      <td>Van</td>\n",
       "      <td>FTG-505-DEF-652</td>\n",
       "      <td>B-102</td>\n",
       "      <td>Express</td>\n",
       "      <td>Medium</td>\n",
       "      <td>140</td>\n",
       "      <td>100</td>\n",
       "      <td>60</td>\n",
       "      <td>Fraud</td>\n",
       "      <td>KA</td>\n",
       "      <td>6</td>\n",
       "      <td>1</td>\n",
       "      <td>1</td>\n",
       "    </tr>\n",
       "    <tr>\n",
       "      <th>...</th>\n",
       "      <td>...</td>\n",
       "      <td>...</td>\n",
       "      <td>...</td>\n",
       "      <td>...</td>\n",
       "      <td>...</td>\n",
       "      <td>...</td>\n",
       "      <td>...</td>\n",
       "      <td>...</td>\n",
       "      <td>...</td>\n",
       "      <td>...</td>\n",
       "      <td>...</td>\n",
       "      <td>...</td>\n",
       "      <td>...</td>\n",
       "    </tr>\n",
       "    <tr>\n",
       "      <th>4995</th>\n",
       "      <td>Truck</td>\n",
       "      <td>FTG-445-EDC-765</td>\n",
       "      <td>C-103</td>\n",
       "      <td>Regular</td>\n",
       "      <td>Large</td>\n",
       "      <td>330</td>\n",
       "      <td>330</td>\n",
       "      <td>81</td>\n",
       "      <td>Not Fraud</td>\n",
       "      <td>KA</td>\n",
       "      <td>22</td>\n",
       "      <td>6</td>\n",
       "      <td>1</td>\n",
       "    </tr>\n",
       "    <tr>\n",
       "      <th>4996</th>\n",
       "      <td>Van</td>\n",
       "      <td>FTG-446-LMK-432</td>\n",
       "      <td>B-102</td>\n",
       "      <td>Express</td>\n",
       "      <td>Medium</td>\n",
       "      <td>125</td>\n",
       "      <td>125</td>\n",
       "      <td>64</td>\n",
       "      <td>Not Fraud</td>\n",
       "      <td>KA</td>\n",
       "      <td>13</td>\n",
       "      <td>1</td>\n",
       "      <td>1</td>\n",
       "    </tr>\n",
       "    <tr>\n",
       "      <th>4997</th>\n",
       "      <td>Sedan</td>\n",
       "      <td>FTG-447-PLN-109</td>\n",
       "      <td>A-101</td>\n",
       "      <td>Regular</td>\n",
       "      <td>Medium</td>\n",
       "      <td>115</td>\n",
       "      <td>115</td>\n",
       "      <td>93</td>\n",
       "      <td>Not Fraud</td>\n",
       "      <td>KA</td>\n",
       "      <td>5</td>\n",
       "      <td>6</td>\n",
       "      <td>2</td>\n",
       "    </tr>\n",
       "    <tr>\n",
       "      <th>4998</th>\n",
       "      <td>SUV</td>\n",
       "      <td>FTG-458-VFR-876</td>\n",
       "      <td>B-102</td>\n",
       "      <td>Express</td>\n",
       "      <td>Large</td>\n",
       "      <td>145</td>\n",
       "      <td>145</td>\n",
       "      <td>57</td>\n",
       "      <td>Not Fraud</td>\n",
       "      <td>KA</td>\n",
       "      <td>20</td>\n",
       "      <td>0</td>\n",
       "      <td>2</td>\n",
       "    </tr>\n",
       "    <tr>\n",
       "      <th>4999</th>\n",
       "      <td>Bus</td>\n",
       "      <td>FTG-459-WSX-543</td>\n",
       "      <td>C-103</td>\n",
       "      <td>Regular</td>\n",
       "      <td>Large</td>\n",
       "      <td>330</td>\n",
       "      <td>125</td>\n",
       "      <td>86</td>\n",
       "      <td>Fraud</td>\n",
       "      <td>KA</td>\n",
       "      <td>0</td>\n",
       "      <td>4</td>\n",
       "      <td>3</td>\n",
       "    </tr>\n",
       "  </tbody>\n",
       "</table>\n",
       "<p>5000 rows × 13 columns</p>\n",
       "</div>"
      ],
      "text/plain": [
       "     Vehicle_Type         FastagID TollBoothID Lane_Type Vehicle_Dimensions  \\\n",
       "0            Bus   FTG-001-ABC-121       A-101   Express              Large   \n",
       "1             Car  FTG-002-XYZ-451       B-102   Regular              Small   \n",
       "2      Motorcycle  FTG-000-QAZ-210       D-104   Regular              Small   \n",
       "3           Truck  FTG-044-LMN-322       C-103   Regular              Large   \n",
       "4             Van  FTG-505-DEF-652       B-102   Express             Medium   \n",
       "...           ...              ...         ...       ...                ...   \n",
       "4995        Truck  FTG-445-EDC-765       C-103   Regular              Large   \n",
       "4996          Van  FTG-446-LMK-432       B-102   Express             Medium   \n",
       "4997        Sedan  FTG-447-PLN-109       A-101   Regular             Medium   \n",
       "4998          SUV  FTG-458-VFR-876       B-102   Express              Large   \n",
       "4999         Bus   FTG-459-WSX-543       C-103   Regular              Large   \n",
       "\n",
       "      Transaction_Amount  Amount_paid  Vehicle_Speed Fraud_indicator  \\\n",
       "0                    350          120             65           Fraud   \n",
       "1                    120          100             78           Fraud   \n",
       "2                      0            0             53       Not Fraud   \n",
       "3                    350          120             92           Fraud   \n",
       "4                    140          100             60           Fraud   \n",
       "...                  ...          ...            ...             ...   \n",
       "4995                 330          330             81       Not Fraud   \n",
       "4996                 125          125             64       Not Fraud   \n",
       "4997                 115          115             93       Not Fraud   \n",
       "4998                 145          145             57       Not Fraud   \n",
       "4999                 330          125             86           Fraud   \n",
       "\n",
       "     state_code  Hour  DayOfWeek  Month  \n",
       "0            KA    11          4      1  \n",
       "1            KA    14          5      1  \n",
       "2            KA    18          6      1  \n",
       "3            KA     2          0      1  \n",
       "4            KA     6          1      1  \n",
       "...         ...   ...        ...    ...  \n",
       "4995         KA    22          6      1  \n",
       "4996         KA    13          1      1  \n",
       "4997         KA     5          6      2  \n",
       "4998         KA    20          0      2  \n",
       "4999         KA     0          4      3  \n",
       "\n",
       "[5000 rows x 13 columns]"
      ]
     },
     "execution_count": 29,
     "metadata": {},
     "output_type": "execute_result"
    }
   ],
   "source": [
    "df"
   ]
  },
  {
   "cell_type": "code",
   "execution_count": 31,
   "metadata": {},
   "outputs": [
    {
     "ename": "KeyError",
     "evalue": "\"['TollBoothID', 'FastagID'] not found in axis\"",
     "output_type": "error",
     "traceback": [
      "\u001b[31m---------------------------------------------------------------------------\u001b[39m",
      "\u001b[31mKeyError\u001b[39m                                  Traceback (most recent call last)",
      "\u001b[36mCell\u001b[39m\u001b[36m \u001b[39m\u001b[32mIn[31]\u001b[39m\u001b[32m, line 2\u001b[39m\n\u001b[32m      1\u001b[39m \u001b[38;5;66;03m# drop tollbooth and fasttag id\u001b[39;00m\n\u001b[32m----> \u001b[39m\u001b[32m2\u001b[39m df = \u001b[43mdf\u001b[49m\u001b[43m.\u001b[49m\u001b[43mdrop\u001b[49m\u001b[43m(\u001b[49m\u001b[43m[\u001b[49m\u001b[33;43m\"\u001b[39;49m\u001b[33;43mTollBoothID\u001b[39;49m\u001b[33;43m\"\u001b[39;49m\u001b[43m,\u001b[49m\u001b[43m \u001b[49m\u001b[33;43m\"\u001b[39;49m\u001b[33;43mFastagID\u001b[39;49m\u001b[33;43m\"\u001b[39;49m\u001b[43m]\u001b[49m\u001b[43m,\u001b[49m\u001b[43m \u001b[49m\u001b[43maxis\u001b[49m\u001b[43m=\u001b[49m\u001b[32;43m1\u001b[39;49m\u001b[43m)\u001b[49m\n\u001b[32m      3\u001b[39m df.sample(\u001b[32m1\u001b[39m)\n",
      "\u001b[36mFile \u001b[39m\u001b[32mc:\\Users\\GAURAV MAURYA\\Desktop\\FastagProjectMinor\\.venv\\Lib\\site-packages\\pandas\\core\\frame.py:5581\u001b[39m, in \u001b[36mDataFrame.drop\u001b[39m\u001b[34m(self, labels, axis, index, columns, level, inplace, errors)\u001b[39m\n\u001b[32m   5433\u001b[39m \u001b[38;5;28;01mdef\u001b[39;00m\u001b[38;5;250m \u001b[39m\u001b[34mdrop\u001b[39m(\n\u001b[32m   5434\u001b[39m     \u001b[38;5;28mself\u001b[39m,\n\u001b[32m   5435\u001b[39m     labels: IndexLabel | \u001b[38;5;28;01mNone\u001b[39;00m = \u001b[38;5;28;01mNone\u001b[39;00m,\n\u001b[32m   (...)\u001b[39m\u001b[32m   5442\u001b[39m     errors: IgnoreRaise = \u001b[33m\"\u001b[39m\u001b[33mraise\u001b[39m\u001b[33m\"\u001b[39m,\n\u001b[32m   5443\u001b[39m ) -> DataFrame | \u001b[38;5;28;01mNone\u001b[39;00m:\n\u001b[32m   5444\u001b[39m \u001b[38;5;250m    \u001b[39m\u001b[33;03m\"\"\"\u001b[39;00m\n\u001b[32m   5445\u001b[39m \u001b[33;03m    Drop specified labels from rows or columns.\u001b[39;00m\n\u001b[32m   5446\u001b[39m \n\u001b[32m   (...)\u001b[39m\u001b[32m   5579\u001b[39m \u001b[33;03m            weight  1.0     0.8\u001b[39;00m\n\u001b[32m   5580\u001b[39m \u001b[33;03m    \"\"\"\u001b[39;00m\n\u001b[32m-> \u001b[39m\u001b[32m5581\u001b[39m     \u001b[38;5;28;01mreturn\u001b[39;00m \u001b[38;5;28;43msuper\u001b[39;49m\u001b[43m(\u001b[49m\u001b[43m)\u001b[49m\u001b[43m.\u001b[49m\u001b[43mdrop\u001b[49m\u001b[43m(\u001b[49m\n\u001b[32m   5582\u001b[39m \u001b[43m        \u001b[49m\u001b[43mlabels\u001b[49m\u001b[43m=\u001b[49m\u001b[43mlabels\u001b[49m\u001b[43m,\u001b[49m\n\u001b[32m   5583\u001b[39m \u001b[43m        \u001b[49m\u001b[43maxis\u001b[49m\u001b[43m=\u001b[49m\u001b[43maxis\u001b[49m\u001b[43m,\u001b[49m\n\u001b[32m   5584\u001b[39m \u001b[43m        \u001b[49m\u001b[43mindex\u001b[49m\u001b[43m=\u001b[49m\u001b[43mindex\u001b[49m\u001b[43m,\u001b[49m\n\u001b[32m   5585\u001b[39m \u001b[43m        \u001b[49m\u001b[43mcolumns\u001b[49m\u001b[43m=\u001b[49m\u001b[43mcolumns\u001b[49m\u001b[43m,\u001b[49m\n\u001b[32m   5586\u001b[39m \u001b[43m        \u001b[49m\u001b[43mlevel\u001b[49m\u001b[43m=\u001b[49m\u001b[43mlevel\u001b[49m\u001b[43m,\u001b[49m\n\u001b[32m   5587\u001b[39m \u001b[43m        \u001b[49m\u001b[43minplace\u001b[49m\u001b[43m=\u001b[49m\u001b[43minplace\u001b[49m\u001b[43m,\u001b[49m\n\u001b[32m   5588\u001b[39m \u001b[43m        \u001b[49m\u001b[43merrors\u001b[49m\u001b[43m=\u001b[49m\u001b[43merrors\u001b[49m\u001b[43m,\u001b[49m\n\u001b[32m   5589\u001b[39m \u001b[43m    \u001b[49m\u001b[43m)\u001b[49m\n",
      "\u001b[36mFile \u001b[39m\u001b[32mc:\\Users\\GAURAV MAURYA\\Desktop\\FastagProjectMinor\\.venv\\Lib\\site-packages\\pandas\\core\\generic.py:4788\u001b[39m, in \u001b[36mNDFrame.drop\u001b[39m\u001b[34m(self, labels, axis, index, columns, level, inplace, errors)\u001b[39m\n\u001b[32m   4786\u001b[39m \u001b[38;5;28;01mfor\u001b[39;00m axis, labels \u001b[38;5;129;01min\u001b[39;00m axes.items():\n\u001b[32m   4787\u001b[39m     \u001b[38;5;28;01mif\u001b[39;00m labels \u001b[38;5;129;01mis\u001b[39;00m \u001b[38;5;129;01mnot\u001b[39;00m \u001b[38;5;28;01mNone\u001b[39;00m:\n\u001b[32m-> \u001b[39m\u001b[32m4788\u001b[39m         obj = \u001b[43mobj\u001b[49m\u001b[43m.\u001b[49m\u001b[43m_drop_axis\u001b[49m\u001b[43m(\u001b[49m\u001b[43mlabels\u001b[49m\u001b[43m,\u001b[49m\u001b[43m \u001b[49m\u001b[43maxis\u001b[49m\u001b[43m,\u001b[49m\u001b[43m \u001b[49m\u001b[43mlevel\u001b[49m\u001b[43m=\u001b[49m\u001b[43mlevel\u001b[49m\u001b[43m,\u001b[49m\u001b[43m \u001b[49m\u001b[43merrors\u001b[49m\u001b[43m=\u001b[49m\u001b[43merrors\u001b[49m\u001b[43m)\u001b[49m\n\u001b[32m   4790\u001b[39m \u001b[38;5;28;01mif\u001b[39;00m inplace:\n\u001b[32m   4791\u001b[39m     \u001b[38;5;28mself\u001b[39m._update_inplace(obj)\n",
      "\u001b[36mFile \u001b[39m\u001b[32mc:\\Users\\GAURAV MAURYA\\Desktop\\FastagProjectMinor\\.venv\\Lib\\site-packages\\pandas\\core\\generic.py:4830\u001b[39m, in \u001b[36mNDFrame._drop_axis\u001b[39m\u001b[34m(self, labels, axis, level, errors, only_slice)\u001b[39m\n\u001b[32m   4828\u001b[39m         new_axis = axis.drop(labels, level=level, errors=errors)\n\u001b[32m   4829\u001b[39m     \u001b[38;5;28;01melse\u001b[39;00m:\n\u001b[32m-> \u001b[39m\u001b[32m4830\u001b[39m         new_axis = \u001b[43maxis\u001b[49m\u001b[43m.\u001b[49m\u001b[43mdrop\u001b[49m\u001b[43m(\u001b[49m\u001b[43mlabels\u001b[49m\u001b[43m,\u001b[49m\u001b[43m \u001b[49m\u001b[43merrors\u001b[49m\u001b[43m=\u001b[49m\u001b[43merrors\u001b[49m\u001b[43m)\u001b[49m\n\u001b[32m   4831\u001b[39m     indexer = axis.get_indexer(new_axis)\n\u001b[32m   4833\u001b[39m \u001b[38;5;66;03m# Case for non-unique axis\u001b[39;00m\n\u001b[32m   4834\u001b[39m \u001b[38;5;28;01melse\u001b[39;00m:\n",
      "\u001b[36mFile \u001b[39m\u001b[32mc:\\Users\\GAURAV MAURYA\\Desktop\\FastagProjectMinor\\.venv\\Lib\\site-packages\\pandas\\core\\indexes\\base.py:7070\u001b[39m, in \u001b[36mIndex.drop\u001b[39m\u001b[34m(self, labels, errors)\u001b[39m\n\u001b[32m   7068\u001b[39m \u001b[38;5;28;01mif\u001b[39;00m mask.any():\n\u001b[32m   7069\u001b[39m     \u001b[38;5;28;01mif\u001b[39;00m errors != \u001b[33m\"\u001b[39m\u001b[33mignore\u001b[39m\u001b[33m\"\u001b[39m:\n\u001b[32m-> \u001b[39m\u001b[32m7070\u001b[39m         \u001b[38;5;28;01mraise\u001b[39;00m \u001b[38;5;167;01mKeyError\u001b[39;00m(\u001b[33mf\u001b[39m\u001b[33m\"\u001b[39m\u001b[38;5;132;01m{\u001b[39;00mlabels[mask].tolist()\u001b[38;5;132;01m}\u001b[39;00m\u001b[33m not found in axis\u001b[39m\u001b[33m\"\u001b[39m)\n\u001b[32m   7071\u001b[39m     indexer = indexer[~mask]\n\u001b[32m   7072\u001b[39m \u001b[38;5;28;01mreturn\u001b[39;00m \u001b[38;5;28mself\u001b[39m.delete(indexer)\n",
      "\u001b[31mKeyError\u001b[39m: \"['TollBoothID', 'FastagID'] not found in axis\""
     ]
    }
   ],
   "source": [
    "# drop tollbooth and fasttag id\n",
    "df = df.drop([\"TollBoothID\", \"FastagID\"], axis=1)\n",
    "df.sample(1)"
   ]
  },
  {
   "cell_type": "code",
   "execution_count": 32,
   "metadata": {},
   "outputs": [
    {
     "data": {
      "text/html": [
       "<div>\n",
       "<style scoped>\n",
       "    .dataframe tbody tr th:only-of-type {\n",
       "        vertical-align: middle;\n",
       "    }\n",
       "\n",
       "    .dataframe tbody tr th {\n",
       "        vertical-align: top;\n",
       "    }\n",
       "\n",
       "    .dataframe thead th {\n",
       "        text-align: right;\n",
       "    }\n",
       "</style>\n",
       "<table border=\"1\" class=\"dataframe\">\n",
       "  <thead>\n",
       "    <tr style=\"text-align: right;\">\n",
       "      <th></th>\n",
       "      <th>Vehicle_Type</th>\n",
       "      <th>Lane_Type</th>\n",
       "      <th>Vehicle_Dimensions</th>\n",
       "      <th>Transaction_Amount</th>\n",
       "      <th>Amount_paid</th>\n",
       "      <th>Vehicle_Speed</th>\n",
       "      <th>Fraud_indicator</th>\n",
       "      <th>state_code</th>\n",
       "      <th>Hour</th>\n",
       "      <th>DayOfWeek</th>\n",
       "      <th>Month</th>\n",
       "    </tr>\n",
       "  </thead>\n",
       "  <tbody>\n",
       "    <tr>\n",
       "      <th>3630</th>\n",
       "      <td>Truck</td>\n",
       "      <td>Express</td>\n",
       "      <td>Large</td>\n",
       "      <td>340</td>\n",
       "      <td>340</td>\n",
       "      <td>50</td>\n",
       "      <td>Not Fraud</td>\n",
       "      <td>KA</td>\n",
       "      <td>2</td>\n",
       "      <td>6</td>\n",
       "      <td>10</td>\n",
       "    </tr>\n",
       "  </tbody>\n",
       "</table>\n",
       "</div>"
      ],
      "text/plain": [
       "     Vehicle_Type Lane_Type Vehicle_Dimensions  Transaction_Amount  \\\n",
       "3630        Truck   Express              Large                 340   \n",
       "\n",
       "      Amount_paid  Vehicle_Speed Fraud_indicator state_code  Hour  DayOfWeek  \\\n",
       "3630          340             50       Not Fraud         KA     2          6   \n",
       "\n",
       "      Month  \n",
       "3630     10  "
      ]
     },
     "execution_count": 32,
     "metadata": {},
     "output_type": "execute_result"
    }
   ],
   "source": [
    "df.sample(1)"
   ]
  },
  {
   "cell_type": "code",
   "execution_count": 33,
   "metadata": {},
   "outputs": [
    {
     "data": {
      "text/html": [
       "<div>\n",
       "<style scoped>\n",
       "    .dataframe tbody tr th:only-of-type {\n",
       "        vertical-align: middle;\n",
       "    }\n",
       "\n",
       "    .dataframe tbody tr th {\n",
       "        vertical-align: top;\n",
       "    }\n",
       "\n",
       "    .dataframe thead th {\n",
       "        text-align: right;\n",
       "    }\n",
       "</style>\n",
       "<table border=\"1\" class=\"dataframe\">\n",
       "  <thead>\n",
       "    <tr style=\"text-align: right;\">\n",
       "      <th></th>\n",
       "      <th>Vehicle_Type</th>\n",
       "      <th>Lane_Type</th>\n",
       "      <th>Vehicle_Dimensions</th>\n",
       "      <th>Transaction_Amount</th>\n",
       "      <th>Amount_paid</th>\n",
       "      <th>Vehicle_Speed</th>\n",
       "      <th>Fraud_indicator</th>\n",
       "      <th>state_code</th>\n",
       "    </tr>\n",
       "  </thead>\n",
       "  <tbody>\n",
       "    <tr>\n",
       "      <th>3049</th>\n",
       "      <td>Truck</td>\n",
       "      <td>Regular</td>\n",
       "      <td>Large</td>\n",
       "      <td>290</td>\n",
       "      <td>290</td>\n",
       "      <td>48</td>\n",
       "      <td>Not Fraud</td>\n",
       "      <td>KA</td>\n",
       "    </tr>\n",
       "  </tbody>\n",
       "</table>\n",
       "</div>"
      ],
      "text/plain": [
       "     Vehicle_Type Lane_Type Vehicle_Dimensions  Transaction_Amount  \\\n",
       "3049        Truck   Regular              Large                 290   \n",
       "\n",
       "      Amount_paid  Vehicle_Speed Fraud_indicator state_code  \n",
       "3049          290             48       Not Fraud         KA  "
      ]
     },
     "execution_count": 33,
     "metadata": {},
     "output_type": "execute_result"
    }
   ],
   "source": [
    "#drop hour dayofweek and month\n",
    "df = df.drop([\"Hour\", \"DayOfWeek\", \"Month\"], axis=1)\n",
    "df.sample(1)"
   ]
  },
  {
   "cell_type": "code",
   "execution_count": 34,
   "metadata": {},
   "outputs": [
    {
     "data": {
      "text/html": [
       "<div>\n",
       "<style scoped>\n",
       "    .dataframe tbody tr th:only-of-type {\n",
       "        vertical-align: middle;\n",
       "    }\n",
       "\n",
       "    .dataframe tbody tr th {\n",
       "        vertical-align: top;\n",
       "    }\n",
       "\n",
       "    .dataframe thead th {\n",
       "        text-align: right;\n",
       "    }\n",
       "</style>\n",
       "<table border=\"1\" class=\"dataframe\">\n",
       "  <thead>\n",
       "    <tr style=\"text-align: right;\">\n",
       "      <th></th>\n",
       "      <th>Vehicle_Type</th>\n",
       "      <th>Lane_Type</th>\n",
       "      <th>Vehicle_Dimensions</th>\n",
       "      <th>Transaction_Amount</th>\n",
       "      <th>Amount_paid</th>\n",
       "      <th>Fraud_indicator</th>\n",
       "      <th>state_code</th>\n",
       "    </tr>\n",
       "  </thead>\n",
       "  <tbody>\n",
       "    <tr>\n",
       "      <th>4589</th>\n",
       "      <td>Truck</td>\n",
       "      <td>Regular</td>\n",
       "      <td>Large</td>\n",
       "      <td>330</td>\n",
       "      <td>330</td>\n",
       "      <td>Not Fraud</td>\n",
       "      <td>MP</td>\n",
       "    </tr>\n",
       "  </tbody>\n",
       "</table>\n",
       "</div>"
      ],
      "text/plain": [
       "     Vehicle_Type Lane_Type Vehicle_Dimensions  Transaction_Amount  \\\n",
       "4589        Truck   Regular              Large                 330   \n",
       "\n",
       "      Amount_paid Fraud_indicator state_code  \n",
       "4589          330       Not Fraud         MP  "
      ]
     },
     "execution_count": 34,
     "metadata": {},
     "output_type": "execute_result"
    }
   ],
   "source": [
    "#drop vehicle_speed\n",
    "df = df.drop(\"Vehicle_Speed\", axis=1)\n",
    "df.sample(1)"
   ]
  },
  {
   "cell_type": "code",
   "execution_count": null,
   "metadata": {},
   "outputs": [],
   "source": []
  },
  {
   "cell_type": "markdown",
   "metadata": {},
   "source": [
    "# 🤔Label Encoding"
   ]
  },
  {
   "cell_type": "code",
   "execution_count": 36,
   "metadata": {},
   "outputs": [],
   "source": [
    "# apply label encoding in object data type features\n",
    "from sklearn.preprocessing import LabelEncoder"
   ]
  },
  {
   "cell_type": "code",
   "execution_count": 37,
   "metadata": {},
   "outputs": [],
   "source": [
    "le = LabelEncoder()"
   ]
  },
  {
   "cell_type": "code",
   "execution_count": 40,
   "metadata": {},
   "outputs": [
    {
     "data": {
      "text/plain": [
       "Index(['Vehicle_Type', 'Lane_Type', 'Vehicle_Dimensions', 'Transaction_Amount',\n",
       "       'Amount_paid', 'Fraud_indicator', 'state_code'],\n",
       "      dtype='object')"
      ]
     },
     "execution_count": 40,
     "metadata": {},
     "output_type": "execute_result"
    }
   ],
   "source": [
    "df.columns"
   ]
  },
  {
   "cell_type": "code",
   "execution_count": 41,
   "metadata": {},
   "outputs": [],
   "source": [
    "objectColumns = ['Vehicle_Type', 'Lane_Type', 'Vehicle_Dimensions','Fraud_indicator', 'state_code']"
   ]
  },
  {
   "cell_type": "code",
   "execution_count": 42,
   "metadata": {},
   "outputs": [],
   "source": [
    "label_encoder = {}\n",
    "for column in objectColumns:\n",
    "    le = LabelEncoder()\n",
    "    df[column] = le.fit_transform(df[column])\n",
    "    label_encoder[column] = le"
   ]
  },
  {
   "cell_type": "code",
   "execution_count": 43,
   "metadata": {},
   "outputs": [
    {
     "data": {
      "text/html": [
       "<div>\n",
       "<style scoped>\n",
       "    .dataframe tbody tr th:only-of-type {\n",
       "        vertical-align: middle;\n",
       "    }\n",
       "\n",
       "    .dataframe tbody tr th {\n",
       "        vertical-align: top;\n",
       "    }\n",
       "\n",
       "    .dataframe thead th {\n",
       "        text-align: right;\n",
       "    }\n",
       "</style>\n",
       "<table border=\"1\" class=\"dataframe\">\n",
       "  <thead>\n",
       "    <tr style=\"text-align: right;\">\n",
       "      <th></th>\n",
       "      <th>Vehicle_Type</th>\n",
       "      <th>Lane_Type</th>\n",
       "      <th>Vehicle_Dimensions</th>\n",
       "      <th>Transaction_Amount</th>\n",
       "      <th>Amount_paid</th>\n",
       "      <th>Fraud_indicator</th>\n",
       "      <th>state_code</th>\n",
       "    </tr>\n",
       "  </thead>\n",
       "  <tbody>\n",
       "    <tr>\n",
       "      <th>2784</th>\n",
       "      <td>6</td>\n",
       "      <td>0</td>\n",
       "      <td>1</td>\n",
       "      <td>140</td>\n",
       "      <td>140</td>\n",
       "      <td>1</td>\n",
       "      <td>6</td>\n",
       "    </tr>\n",
       "    <tr>\n",
       "      <th>1475</th>\n",
       "      <td>4</td>\n",
       "      <td>1</td>\n",
       "      <td>1</td>\n",
       "      <td>120</td>\n",
       "      <td>120</td>\n",
       "      <td>1</td>\n",
       "      <td>6</td>\n",
       "    </tr>\n",
       "  </tbody>\n",
       "</table>\n",
       "</div>"
      ],
      "text/plain": [
       "      Vehicle_Type  Lane_Type  Vehicle_Dimensions  Transaction_Amount  \\\n",
       "2784             6          0                   1                 140   \n",
       "1475             4          1                   1                 120   \n",
       "\n",
       "      Amount_paid  Fraud_indicator  state_code  \n",
       "2784          140                1           6  \n",
       "1475          120                1           6  "
      ]
     },
     "execution_count": 43,
     "metadata": {},
     "output_type": "execute_result"
    }
   ],
   "source": [
    "df.sample(2)"
   ]
  },
  {
   "cell_type": "code",
   "execution_count": 44,
   "metadata": {},
   "outputs": [
    {
     "name": "stdout",
     "output_type": "stream",
     "text": [
      "{'Vehicle_Type': LabelEncoder(), 'Lane_Type': LabelEncoder(), 'Vehicle_Dimensions': LabelEncoder(), 'Fraud_indicator': LabelEncoder(), 'state_code': LabelEncoder()}\n"
     ]
    }
   ],
   "source": [
    "print(label_encoder)"
   ]
  },
  {
   "cell_type": "code",
   "execution_count": 45,
   "metadata": {},
   "outputs": [
    {
     "data": {
      "text/html": [
       "<style>#sk-container-id-1 {\n",
       "  /* Definition of color scheme common for light and dark mode */\n",
       "  --sklearn-color-text: #000;\n",
       "  --sklearn-color-text-muted: #666;\n",
       "  --sklearn-color-line: gray;\n",
       "  /* Definition of color scheme for unfitted estimators */\n",
       "  --sklearn-color-unfitted-level-0: #fff5e6;\n",
       "  --sklearn-color-unfitted-level-1: #f6e4d2;\n",
       "  --sklearn-color-unfitted-level-2: #ffe0b3;\n",
       "  --sklearn-color-unfitted-level-3: chocolate;\n",
       "  /* Definition of color scheme for fitted estimators */\n",
       "  --sklearn-color-fitted-level-0: #f0f8ff;\n",
       "  --sklearn-color-fitted-level-1: #d4ebff;\n",
       "  --sklearn-color-fitted-level-2: #b3dbfd;\n",
       "  --sklearn-color-fitted-level-3: cornflowerblue;\n",
       "\n",
       "  /* Specific color for light theme */\n",
       "  --sklearn-color-text-on-default-background: var(--sg-text-color, var(--theme-code-foreground, var(--jp-content-font-color1, black)));\n",
       "  --sklearn-color-background: var(--sg-background-color, var(--theme-background, var(--jp-layout-color0, white)));\n",
       "  --sklearn-color-border-box: var(--sg-text-color, var(--theme-code-foreground, var(--jp-content-font-color1, black)));\n",
       "  --sklearn-color-icon: #696969;\n",
       "\n",
       "  @media (prefers-color-scheme: dark) {\n",
       "    /* Redefinition of color scheme for dark theme */\n",
       "    --sklearn-color-text-on-default-background: var(--sg-text-color, var(--theme-code-foreground, var(--jp-content-font-color1, white)));\n",
       "    --sklearn-color-background: var(--sg-background-color, var(--theme-background, var(--jp-layout-color0, #111)));\n",
       "    --sklearn-color-border-box: var(--sg-text-color, var(--theme-code-foreground, var(--jp-content-font-color1, white)));\n",
       "    --sklearn-color-icon: #878787;\n",
       "  }\n",
       "}\n",
       "\n",
       "#sk-container-id-1 {\n",
       "  color: var(--sklearn-color-text);\n",
       "}\n",
       "\n",
       "#sk-container-id-1 pre {\n",
       "  padding: 0;\n",
       "}\n",
       "\n",
       "#sk-container-id-1 input.sk-hidden--visually {\n",
       "  border: 0;\n",
       "  clip: rect(1px 1px 1px 1px);\n",
       "  clip: rect(1px, 1px, 1px, 1px);\n",
       "  height: 1px;\n",
       "  margin: -1px;\n",
       "  overflow: hidden;\n",
       "  padding: 0;\n",
       "  position: absolute;\n",
       "  width: 1px;\n",
       "}\n",
       "\n",
       "#sk-container-id-1 div.sk-dashed-wrapped {\n",
       "  border: 1px dashed var(--sklearn-color-line);\n",
       "  margin: 0 0.4em 0.5em 0.4em;\n",
       "  box-sizing: border-box;\n",
       "  padding-bottom: 0.4em;\n",
       "  background-color: var(--sklearn-color-background);\n",
       "}\n",
       "\n",
       "#sk-container-id-1 div.sk-container {\n",
       "  /* jupyter's `normalize.less` sets `[hidden] { display: none; }`\n",
       "     but bootstrap.min.css set `[hidden] { display: none !important; }`\n",
       "     so we also need the `!important` here to be able to override the\n",
       "     default hidden behavior on the sphinx rendered scikit-learn.org.\n",
       "     See: https://github.com/scikit-learn/scikit-learn/issues/21755 */\n",
       "  display: inline-block !important;\n",
       "  position: relative;\n",
       "}\n",
       "\n",
       "#sk-container-id-1 div.sk-text-repr-fallback {\n",
       "  display: none;\n",
       "}\n",
       "\n",
       "div.sk-parallel-item,\n",
       "div.sk-serial,\n",
       "div.sk-item {\n",
       "  /* draw centered vertical line to link estimators */\n",
       "  background-image: linear-gradient(var(--sklearn-color-text-on-default-background), var(--sklearn-color-text-on-default-background));\n",
       "  background-size: 2px 100%;\n",
       "  background-repeat: no-repeat;\n",
       "  background-position: center center;\n",
       "}\n",
       "\n",
       "/* Parallel-specific style estimator block */\n",
       "\n",
       "#sk-container-id-1 div.sk-parallel-item::after {\n",
       "  content: \"\";\n",
       "  width: 100%;\n",
       "  border-bottom: 2px solid var(--sklearn-color-text-on-default-background);\n",
       "  flex-grow: 1;\n",
       "}\n",
       "\n",
       "#sk-container-id-1 div.sk-parallel {\n",
       "  display: flex;\n",
       "  align-items: stretch;\n",
       "  justify-content: center;\n",
       "  background-color: var(--sklearn-color-background);\n",
       "  position: relative;\n",
       "}\n",
       "\n",
       "#sk-container-id-1 div.sk-parallel-item {\n",
       "  display: flex;\n",
       "  flex-direction: column;\n",
       "}\n",
       "\n",
       "#sk-container-id-1 div.sk-parallel-item:first-child::after {\n",
       "  align-self: flex-end;\n",
       "  width: 50%;\n",
       "}\n",
       "\n",
       "#sk-container-id-1 div.sk-parallel-item:last-child::after {\n",
       "  align-self: flex-start;\n",
       "  width: 50%;\n",
       "}\n",
       "\n",
       "#sk-container-id-1 div.sk-parallel-item:only-child::after {\n",
       "  width: 0;\n",
       "}\n",
       "\n",
       "/* Serial-specific style estimator block */\n",
       "\n",
       "#sk-container-id-1 div.sk-serial {\n",
       "  display: flex;\n",
       "  flex-direction: column;\n",
       "  align-items: center;\n",
       "  background-color: var(--sklearn-color-background);\n",
       "  padding-right: 1em;\n",
       "  padding-left: 1em;\n",
       "}\n",
       "\n",
       "\n",
       "/* Toggleable style: style used for estimator/Pipeline/ColumnTransformer box that is\n",
       "clickable and can be expanded/collapsed.\n",
       "- Pipeline and ColumnTransformer use this feature and define the default style\n",
       "- Estimators will overwrite some part of the style using the `sk-estimator` class\n",
       "*/\n",
       "\n",
       "/* Pipeline and ColumnTransformer style (default) */\n",
       "\n",
       "#sk-container-id-1 div.sk-toggleable {\n",
       "  /* Default theme specific background. It is overwritten whether we have a\n",
       "  specific estimator or a Pipeline/ColumnTransformer */\n",
       "  background-color: var(--sklearn-color-background);\n",
       "}\n",
       "\n",
       "/* Toggleable label */\n",
       "#sk-container-id-1 label.sk-toggleable__label {\n",
       "  cursor: pointer;\n",
       "  display: flex;\n",
       "  width: 100%;\n",
       "  margin-bottom: 0;\n",
       "  padding: 0.5em;\n",
       "  box-sizing: border-box;\n",
       "  text-align: center;\n",
       "  align-items: start;\n",
       "  justify-content: space-between;\n",
       "  gap: 0.5em;\n",
       "}\n",
       "\n",
       "#sk-container-id-1 label.sk-toggleable__label .caption {\n",
       "  font-size: 0.6rem;\n",
       "  font-weight: lighter;\n",
       "  color: var(--sklearn-color-text-muted);\n",
       "}\n",
       "\n",
       "#sk-container-id-1 label.sk-toggleable__label-arrow:before {\n",
       "  /* Arrow on the left of the label */\n",
       "  content: \"▸\";\n",
       "  float: left;\n",
       "  margin-right: 0.25em;\n",
       "  color: var(--sklearn-color-icon);\n",
       "}\n",
       "\n",
       "#sk-container-id-1 label.sk-toggleable__label-arrow:hover:before {\n",
       "  color: var(--sklearn-color-text);\n",
       "}\n",
       "\n",
       "/* Toggleable content - dropdown */\n",
       "\n",
       "#sk-container-id-1 div.sk-toggleable__content {\n",
       "  max-height: 0;\n",
       "  max-width: 0;\n",
       "  overflow: hidden;\n",
       "  text-align: left;\n",
       "  /* unfitted */\n",
       "  background-color: var(--sklearn-color-unfitted-level-0);\n",
       "}\n",
       "\n",
       "#sk-container-id-1 div.sk-toggleable__content.fitted {\n",
       "  /* fitted */\n",
       "  background-color: var(--sklearn-color-fitted-level-0);\n",
       "}\n",
       "\n",
       "#sk-container-id-1 div.sk-toggleable__content pre {\n",
       "  margin: 0.2em;\n",
       "  border-radius: 0.25em;\n",
       "  color: var(--sklearn-color-text);\n",
       "  /* unfitted */\n",
       "  background-color: var(--sklearn-color-unfitted-level-0);\n",
       "}\n",
       "\n",
       "#sk-container-id-1 div.sk-toggleable__content.fitted pre {\n",
       "  /* unfitted */\n",
       "  background-color: var(--sklearn-color-fitted-level-0);\n",
       "}\n",
       "\n",
       "#sk-container-id-1 input.sk-toggleable__control:checked~div.sk-toggleable__content {\n",
       "  /* Expand drop-down */\n",
       "  max-height: 200px;\n",
       "  max-width: 100%;\n",
       "  overflow: auto;\n",
       "}\n",
       "\n",
       "#sk-container-id-1 input.sk-toggleable__control:checked~label.sk-toggleable__label-arrow:before {\n",
       "  content: \"▾\";\n",
       "}\n",
       "\n",
       "/* Pipeline/ColumnTransformer-specific style */\n",
       "\n",
       "#sk-container-id-1 div.sk-label input.sk-toggleable__control:checked~label.sk-toggleable__label {\n",
       "  color: var(--sklearn-color-text);\n",
       "  background-color: var(--sklearn-color-unfitted-level-2);\n",
       "}\n",
       "\n",
       "#sk-container-id-1 div.sk-label.fitted input.sk-toggleable__control:checked~label.sk-toggleable__label {\n",
       "  background-color: var(--sklearn-color-fitted-level-2);\n",
       "}\n",
       "\n",
       "/* Estimator-specific style */\n",
       "\n",
       "/* Colorize estimator box */\n",
       "#sk-container-id-1 div.sk-estimator input.sk-toggleable__control:checked~label.sk-toggleable__label {\n",
       "  /* unfitted */\n",
       "  background-color: var(--sklearn-color-unfitted-level-2);\n",
       "}\n",
       "\n",
       "#sk-container-id-1 div.sk-estimator.fitted input.sk-toggleable__control:checked~label.sk-toggleable__label {\n",
       "  /* fitted */\n",
       "  background-color: var(--sklearn-color-fitted-level-2);\n",
       "}\n",
       "\n",
       "#sk-container-id-1 div.sk-label label.sk-toggleable__label,\n",
       "#sk-container-id-1 div.sk-label label {\n",
       "  /* The background is the default theme color */\n",
       "  color: var(--sklearn-color-text-on-default-background);\n",
       "}\n",
       "\n",
       "/* On hover, darken the color of the background */\n",
       "#sk-container-id-1 div.sk-label:hover label.sk-toggleable__label {\n",
       "  color: var(--sklearn-color-text);\n",
       "  background-color: var(--sklearn-color-unfitted-level-2);\n",
       "}\n",
       "\n",
       "/* Label box, darken color on hover, fitted */\n",
       "#sk-container-id-1 div.sk-label.fitted:hover label.sk-toggleable__label.fitted {\n",
       "  color: var(--sklearn-color-text);\n",
       "  background-color: var(--sklearn-color-fitted-level-2);\n",
       "}\n",
       "\n",
       "/* Estimator label */\n",
       "\n",
       "#sk-container-id-1 div.sk-label label {\n",
       "  font-family: monospace;\n",
       "  font-weight: bold;\n",
       "  display: inline-block;\n",
       "  line-height: 1.2em;\n",
       "}\n",
       "\n",
       "#sk-container-id-1 div.sk-label-container {\n",
       "  text-align: center;\n",
       "}\n",
       "\n",
       "/* Estimator-specific */\n",
       "#sk-container-id-1 div.sk-estimator {\n",
       "  font-family: monospace;\n",
       "  border: 1px dotted var(--sklearn-color-border-box);\n",
       "  border-radius: 0.25em;\n",
       "  box-sizing: border-box;\n",
       "  margin-bottom: 0.5em;\n",
       "  /* unfitted */\n",
       "  background-color: var(--sklearn-color-unfitted-level-0);\n",
       "}\n",
       "\n",
       "#sk-container-id-1 div.sk-estimator.fitted {\n",
       "  /* fitted */\n",
       "  background-color: var(--sklearn-color-fitted-level-0);\n",
       "}\n",
       "\n",
       "/* on hover */\n",
       "#sk-container-id-1 div.sk-estimator:hover {\n",
       "  /* unfitted */\n",
       "  background-color: var(--sklearn-color-unfitted-level-2);\n",
       "}\n",
       "\n",
       "#sk-container-id-1 div.sk-estimator.fitted:hover {\n",
       "  /* fitted */\n",
       "  background-color: var(--sklearn-color-fitted-level-2);\n",
       "}\n",
       "\n",
       "/* Specification for estimator info (e.g. \"i\" and \"?\") */\n",
       "\n",
       "/* Common style for \"i\" and \"?\" */\n",
       "\n",
       ".sk-estimator-doc-link,\n",
       "a:link.sk-estimator-doc-link,\n",
       "a:visited.sk-estimator-doc-link {\n",
       "  float: right;\n",
       "  font-size: smaller;\n",
       "  line-height: 1em;\n",
       "  font-family: monospace;\n",
       "  background-color: var(--sklearn-color-background);\n",
       "  border-radius: 1em;\n",
       "  height: 1em;\n",
       "  width: 1em;\n",
       "  text-decoration: none !important;\n",
       "  margin-left: 0.5em;\n",
       "  text-align: center;\n",
       "  /* unfitted */\n",
       "  border: var(--sklearn-color-unfitted-level-1) 1pt solid;\n",
       "  color: var(--sklearn-color-unfitted-level-1);\n",
       "}\n",
       "\n",
       ".sk-estimator-doc-link.fitted,\n",
       "a:link.sk-estimator-doc-link.fitted,\n",
       "a:visited.sk-estimator-doc-link.fitted {\n",
       "  /* fitted */\n",
       "  border: var(--sklearn-color-fitted-level-1) 1pt solid;\n",
       "  color: var(--sklearn-color-fitted-level-1);\n",
       "}\n",
       "\n",
       "/* On hover */\n",
       "div.sk-estimator:hover .sk-estimator-doc-link:hover,\n",
       ".sk-estimator-doc-link:hover,\n",
       "div.sk-label-container:hover .sk-estimator-doc-link:hover,\n",
       ".sk-estimator-doc-link:hover {\n",
       "  /* unfitted */\n",
       "  background-color: var(--sklearn-color-unfitted-level-3);\n",
       "  color: var(--sklearn-color-background);\n",
       "  text-decoration: none;\n",
       "}\n",
       "\n",
       "div.sk-estimator.fitted:hover .sk-estimator-doc-link.fitted:hover,\n",
       ".sk-estimator-doc-link.fitted:hover,\n",
       "div.sk-label-container:hover .sk-estimator-doc-link.fitted:hover,\n",
       ".sk-estimator-doc-link.fitted:hover {\n",
       "  /* fitted */\n",
       "  background-color: var(--sklearn-color-fitted-level-3);\n",
       "  color: var(--sklearn-color-background);\n",
       "  text-decoration: none;\n",
       "}\n",
       "\n",
       "/* Span, style for the box shown on hovering the info icon */\n",
       ".sk-estimator-doc-link span {\n",
       "  display: none;\n",
       "  z-index: 9999;\n",
       "  position: relative;\n",
       "  font-weight: normal;\n",
       "  right: .2ex;\n",
       "  padding: .5ex;\n",
       "  margin: .5ex;\n",
       "  width: min-content;\n",
       "  min-width: 20ex;\n",
       "  max-width: 50ex;\n",
       "  color: var(--sklearn-color-text);\n",
       "  box-shadow: 2pt 2pt 4pt #999;\n",
       "  /* unfitted */\n",
       "  background: var(--sklearn-color-unfitted-level-0);\n",
       "  border: .5pt solid var(--sklearn-color-unfitted-level-3);\n",
       "}\n",
       "\n",
       ".sk-estimator-doc-link.fitted span {\n",
       "  /* fitted */\n",
       "  background: var(--sklearn-color-fitted-level-0);\n",
       "  border: var(--sklearn-color-fitted-level-3);\n",
       "}\n",
       "\n",
       ".sk-estimator-doc-link:hover span {\n",
       "  display: block;\n",
       "}\n",
       "\n",
       "/* \"?\"-specific style due to the `<a>` HTML tag */\n",
       "\n",
       "#sk-container-id-1 a.estimator_doc_link {\n",
       "  float: right;\n",
       "  font-size: 1rem;\n",
       "  line-height: 1em;\n",
       "  font-family: monospace;\n",
       "  background-color: var(--sklearn-color-background);\n",
       "  border-radius: 1rem;\n",
       "  height: 1rem;\n",
       "  width: 1rem;\n",
       "  text-decoration: none;\n",
       "  /* unfitted */\n",
       "  color: var(--sklearn-color-unfitted-level-1);\n",
       "  border: var(--sklearn-color-unfitted-level-1) 1pt solid;\n",
       "}\n",
       "\n",
       "#sk-container-id-1 a.estimator_doc_link.fitted {\n",
       "  /* fitted */\n",
       "  border: var(--sklearn-color-fitted-level-1) 1pt solid;\n",
       "  color: var(--sklearn-color-fitted-level-1);\n",
       "}\n",
       "\n",
       "/* On hover */\n",
       "#sk-container-id-1 a.estimator_doc_link:hover {\n",
       "  /* unfitted */\n",
       "  background-color: var(--sklearn-color-unfitted-level-3);\n",
       "  color: var(--sklearn-color-background);\n",
       "  text-decoration: none;\n",
       "}\n",
       "\n",
       "#sk-container-id-1 a.estimator_doc_link.fitted:hover {\n",
       "  /* fitted */\n",
       "  background-color: var(--sklearn-color-fitted-level-3);\n",
       "}\n",
       "</style><div id=\"sk-container-id-1\" class=\"sk-top-container\"><div class=\"sk-text-repr-fallback\"><pre>LabelEncoder()</pre><b>In a Jupyter environment, please rerun this cell to show the HTML representation or trust the notebook. <br />On GitHub, the HTML representation is unable to render, please try loading this page with nbviewer.org.</b></div><div class=\"sk-container\" hidden><div class=\"sk-item\"><div class=\"sk-estimator fitted sk-toggleable\"><input class=\"sk-toggleable__control sk-hidden--visually\" id=\"sk-estimator-id-1\" type=\"checkbox\" checked><label for=\"sk-estimator-id-1\" class=\"sk-toggleable__label fitted sk-toggleable__label-arrow\"><div><div>LabelEncoder</div></div><div><a class=\"sk-estimator-doc-link fitted\" rel=\"noreferrer\" target=\"_blank\" href=\"https://scikit-learn.org/1.6/modules/generated/sklearn.preprocessing.LabelEncoder.html\">?<span>Documentation for LabelEncoder</span></a><span class=\"sk-estimator-doc-link fitted\">i<span>Fitted</span></span></div></label><div class=\"sk-toggleable__content fitted\"><pre>LabelEncoder()</pre></div> </div></div></div></div>"
      ],
      "text/plain": [
       "LabelEncoder()"
      ]
     },
     "execution_count": 45,
     "metadata": {},
     "output_type": "execute_result"
    }
   ],
   "source": [
    "label_encoder[\"Fraud_indicator\"]"
   ]
  },
  {
   "cell_type": "code",
   "execution_count": 46,
   "metadata": {},
   "outputs": [
    {
     "data": {
      "text/plain": [
       "array(['Fraud', 'Not Fraud'], dtype=object)"
      ]
     },
     "execution_count": 46,
     "metadata": {},
     "output_type": "execute_result"
    }
   ],
   "source": [
    "label_encoder[\"Fraud_indicator\"].classes_"
   ]
  },
  {
   "cell_type": "code",
   "execution_count": 48,
   "metadata": {},
   "outputs": [],
   "source": [
    "df.to_csv('../data/label_encoded_data.csv', index=False)"
   ]
  },
  {
   "cell_type": "markdown",
   "metadata": {},
   "source": [
    "# 🤔Downlaod Lebel Encoder"
   ]
  },
  {
   "cell_type": "code",
   "execution_count": 53,
   "metadata": {},
   "outputs": [],
   "source": [
    "import joblib\n",
    "import os"
   ]
  },
  {
   "cell_type": "code",
   "execution_count": 55,
   "metadata": {},
   "outputs": [],
   "source": [
    "os.makedirs('../models', exist_ok=True)"
   ]
  },
  {
   "cell_type": "code",
   "execution_count": 58,
   "metadata": {},
   "outputs": [
    {
     "data": {
      "text/plain": [
       "['../models/label_encoders.joblib']"
      ]
     },
     "execution_count": 58,
     "metadata": {},
     "output_type": "execute_result"
    }
   ],
   "source": [
    "# Save the label encoders to a file in the 'models' directory\n",
    "joblib.dump(label_encoder, '../models/label_encoders.joblib')"
   ]
  },
  {
   "cell_type": "markdown",
   "metadata": {},
   "source": []
  }
 ],
 "metadata": {
  "kernelspec": {
   "display_name": ".venv",
   "language": "python",
   "name": "python3"
  },
  "language_info": {
   "codemirror_mode": {
    "name": "ipython",
    "version": 3
   },
   "file_extension": ".py",
   "mimetype": "text/x-python",
   "name": "python",
   "nbconvert_exporter": "python",
   "pygments_lexer": "ipython3",
   "version": "3.12.6"
  }
 },
 "nbformat": 4,
 "nbformat_minor": 2
}
